{
 "cells": [
  {
   "cell_type": "code",
   "execution_count": 15,
   "metadata": {
    "collapsed": false,
    "pycharm": {
     "is_executing": false
    }
   },
   "outputs": [],
   "source": [
    "import numpy as np\n",
    "import tifffile\n",
    "from utilities import two_point_correlation\n",
    "import pandas as pd\n",
    "from tqdm import tnrange"
   ]
  },
  {
   "cell_type": "markdown",
   "metadata": {},
   "source": [
    "## File Directories\n",
    "\n",
    "We specify here the file directories and endings for each of the images.  \n",
    "This allows all computations to be made within one notebook and reduces number of necessary notebooks."
   ]
  },
  {
   "cell_type": "code",
   "execution_count": 16,
   "metadata": {
    "collapsed": false,
    "pycharm": {
     "is_executing": false
    }
   },
   "outputs": [],
   "source": [
    "#strings to output and input locations\n",
    "beadpack_dic = {\n",
    "    \"orig_input\": \"../../../data/beadpack/original/tiff/beadpack.tif\",\n",
    "    \"synthetic_input\": \"../../../data/beadpack/sampled/postprocessed/dcgan_200_epoch_210/beadpack_200_\",\n",
    "    \"synthetic_ending\": \".tiff\",\n",
    "    \"out_direc\": \"../../../analysis/covariance/beadpack/\",\n",
    "    \"seed_min\": 43,\n",
    "    \"seed_max\": 64\n",
    "}\n",
    "\n",
    "berea_dic = {\n",
    "    \"orig_input\": \"../../../data/berea/original/raw/berea.tif\",\n",
    "    \"synthetic_input\": \"../../../data/berea/sampled/postprocessed/tiff/dcgan_200/berea_generated_\",\n",
    "    \"synthetic_ending\": \"_crop.tiff\",\n",
    "    \"out_direc\": \"../../../analysis/covariance/berea/\",\n",
    "    \"seed_min\": 43,\n",
    "    \"seed_max\": 64\n",
    "}\n",
    "\n",
    "ketton_dic = {\n",
    "    \"orig_input\": \"../../../data/ketton/original/raw/ketton.tif\",\n",
    "    \"synthetic_input\": \"../../../data/ketton/sampled/postprocessed/tiff/200/ketton_desp_64_\",\n",
    "    \"synthetic_ending\": \".tiff\",\n",
    "    \"out_direc\": \"../../../analysis/covariance/ketton/\",\n",
    "    \"seed_min\": 43,\n",
    "    \"seed_max\": 64\n",
    "}"
   ]
  },
  {
   "cell_type": "code",
   "execution_count": 17,
   "metadata": {
    "collapsed": true,
    "pycharm": {
     "is_executing": false
    }
   },
   "outputs": [],
   "source": [
    "data_dic = ketton_dic\n",
    "orig_img = tifffile.imread(data_dic[\"orig_input\"])\n",
    "out_direc = data_dic[\"out_direc\"]\n",
    "synthetic_input = data_dic[\"synthetic_input\"]\n",
    "synthetic_ending = data_dic[\"synthetic_ending\"]\n",
    "seed_min, seed_max = data_dic[\"seed_min\"], data_dic[\"seed_max\"]"
   ]
  },
  {
   "cell_type": "markdown",
   "metadata": {},
   "source": [
    "## Data Loading\n",
    "\n",
    "We load the dataset of the original segmented training image and get the largest and smallest value in the dataset.  \n",
    "This is necessary due to different images may be [0-1] or [0-255] segmented.  \n",
    "Therefore we make this check before hand to compute for the correct phase."
   ]
  },
  {
   "cell_type": "code",
   "execution_count": 18,
   "metadata": {
    "collapsed": false,
    "pycharm": {
     "is_executing": false
    }
   },
   "outputs": [
    {
     "name": "stdout",
     "text": [
      "Pore Phase Value:  0\nGrain Phase Value:  255\n"
     ],
     "output_type": "stream"
    }
   ],
   "source": [
    "pore_phase = orig_img.min()\n",
    "grain_phase = orig_img.max()\n",
    "print (\"Pore Phase Value: \", pore_phase)\n",
    "print (\"Grain Phase Value: \", grain_phase)"
   ]
  },
  {
   "cell_type": "markdown",
   "metadata": {},
   "source": [
    "## Covariance Computation - Pore Phase\n",
    "\n",
    "We make use of a helper function in utilities.py to compute the covariance in each cartesian direction.  \n",
    "The resulting dataset is a cube of the average counts at each distance $r$ for each value in the plane of computation."
   ]
  },
  {
   "cell_type": "code",
   "execution_count": 19,
   "metadata": {
    "collapsed": false,
    "pycharm": {
     "is_executing": false
    }
   },
   "outputs": [],
   "source": [
    "two_point_covariance_pore_phase_orig = {}\n",
    "for i, direc in enumerate([\"x\", \"y\", \"z\"]):\n",
    "    two_point_direc = two_point_correlation(orig_img, i, var=pore_phase)\n",
    "    two_point_covariance_pore_phase_orig[direc] = two_point_direc"
   ]
  },
  {
   "cell_type": "markdown",
   "metadata": {},
   "source": [
    "We now average in the first two dimensions e.g. covariance in x-direction, average across y, z directions  \n",
    "to obtain the directional covariance. Perform this for all three directions."
   ]
  },
  {
   "cell_type": "code",
   "execution_count": 20,
   "metadata": {
    "collapsed": false,
    "pycharm": {
     "is_executing": false
    }
   },
   "outputs": [
    {
     "name": "stdout",
     "text": [
      "(256,)\n"
     ],
     "output_type": "stream"
    }
   ],
   "source": [
    "direc_covariances_pore_phase_orig = {}\n",
    "for direc in [\"x\", \"y\", \"z\"]:\n",
    "    direc_covariances_pore_phase_orig[direc] = np.mean(np.mean(two_point_covariance_pore_phase_orig[direc], axis=0), axis=0)\n",
    "print (direc_covariances_pore_phase_orig[\"x\"].shape)"
   ]
  },
  {
   "cell_type": "markdown",
   "metadata": {},
   "source": [
    "We store the computed covariance in a csv file for later plotting and computation purposes.  \n",
    "We also perform a sanity check: the covariance at the origin should equal the porosity of the image for the pore phase,\n",
    "and 1-porosity for the grain phase."
   ]
  },
  {
   "cell_type": "code",
   "execution_count": 21,
   "metadata": {
    "collapsed": false,
    "pycharm": {
     "is_executing": false
    }
   },
   "outputs": [
    {
     "data": {
      "text/plain": "          x         y         z\n0  0.126862  0.126862  0.126862\n1  0.109027  0.111406  0.110832\n2  0.094193  0.098307  0.097267\n3  0.081682  0.087207  0.085761\n4  0.071046  0.077693  0.075923",
      "text/html": "<div>\n<style scoped>\n    .dataframe tbody tr th:only-of-type {\n        vertical-align: middle;\n    }\n\n    .dataframe tbody tr th {\n        vertical-align: top;\n    }\n\n    .dataframe thead th {\n        text-align: right;\n    }\n</style>\n<table border=\"1\" class=\"dataframe\">\n  <thead>\n    <tr style=\"text-align: right;\">\n      <th></th>\n      <th>x</th>\n      <th>y</th>\n      <th>z</th>\n    </tr>\n  </thead>\n  <tbody>\n    <tr>\n      <th>0</th>\n      <td>0.126862</td>\n      <td>0.126862</td>\n      <td>0.126862</td>\n    </tr>\n    <tr>\n      <th>1</th>\n      <td>0.109027</td>\n      <td>0.111406</td>\n      <td>0.110832</td>\n    </tr>\n    <tr>\n      <th>2</th>\n      <td>0.094193</td>\n      <td>0.098307</td>\n      <td>0.097267</td>\n    </tr>\n    <tr>\n      <th>3</th>\n      <td>0.081682</td>\n      <td>0.087207</td>\n      <td>0.085761</td>\n    </tr>\n    <tr>\n      <th>4</th>\n      <td>0.071046</td>\n      <td>0.077693</td>\n      <td>0.075923</td>\n    </tr>\n  </tbody>\n</table>\n</div>"
     },
     "metadata": {},
     "output_type": "execute_result",
     "execution_count": 21
    }
   ],
   "source": [
    "covariance_orig_df = pd.DataFrame(direc_covariances_pore_phase_orig)\n",
    "covariance_orig_df.to_csv(out_direc+\"orig_pph.csv\",  index=False)\n",
    "\n",
    "covariances_orig_df_backload = pd.read_csv(out_direc+\"orig_pph.csv\")\n",
    "covariances_orig_df_backload.head()"
   ]
  },
  {
   "cell_type": "markdown",
   "metadata": {},
   "source": [
    "Due to the large size of these arrays we delete them manually before continuing to free up memory."
   ]
  },
  {
   "cell_type": "code",
   "execution_count": 22,
   "metadata": {
    "collapsed": true,
    "pycharm": {
     "is_executing": false
    }
   },
   "outputs": [],
   "source": [
    "# if two_point_covariance_pore_phase_orig:\n",
    "del two_point_covariance_pore_phase_orig\n",
    "del two_point_direc"
   ]
  },
  {
   "cell_type": "markdown",
   "metadata": {},
   "source": [
    "## Covariance Computation - Grain Phase\n",
    "\n",
    "We perform the same computation as above, but exchange for the grain phase value of the image."
   ]
  },
  {
   "cell_type": "code",
   "execution_count": 23,
   "metadata": {
    "collapsed": true,
    "pycharm": {
     "is_executing": false
    }
   },
   "outputs": [],
   "source": [
    "two_point_covariance_grain_phase_orig = {}\n",
    "for i, direc in enumerate([\"x\", \"y\", \"z\"]):\n",
    "    two_point_direc = two_point_correlation(orig_img, i, var=grain_phase)\n",
    "    two_point_covariance_grain_phase_orig[direc] = two_point_direc"
   ]
  },
  {
   "cell_type": "code",
   "execution_count": 24,
   "metadata": {
    "collapsed": false,
    "pycharm": {
     "is_executing": false
    }
   },
   "outputs": [
    {
     "name": "stdout",
     "text": [
      "(256,)\n"
     ],
     "output_type": "stream"
    }
   ],
   "source": [
    "direc_covariances_grain_phase_orig = {}\n",
    "for direc in [\"x\", \"y\", \"z\"]:\n",
    "    direc_covariances_grain_phase_orig[direc] = np.mean(np.mean(two_point_covariance_grain_phase_orig[direc], axis=0), axis=0)\n",
    "print (direc_covariances_grain_phase_orig[\"x\"].shape)"
   ]
  },
  {
   "cell_type": "code",
   "execution_count": 25,
   "metadata": {
    "collapsed": false,
    "pycharm": {
     "is_executing": false
    }
   },
   "outputs": [
    {
     "data": {
      "text/plain": "          x         y         z\n0  0.873138  0.873138  0.873138\n1  0.855445  0.857769  0.856924\n2  0.840770  0.844745  0.843168\n3  0.828417  0.833715  0.831490\n4  0.817951  0.824284  0.821499",
      "text/html": "<div>\n<style scoped>\n    .dataframe tbody tr th:only-of-type {\n        vertical-align: middle;\n    }\n\n    .dataframe tbody tr th {\n        vertical-align: top;\n    }\n\n    .dataframe thead th {\n        text-align: right;\n    }\n</style>\n<table border=\"1\" class=\"dataframe\">\n  <thead>\n    <tr style=\"text-align: right;\">\n      <th></th>\n      <th>x</th>\n      <th>y</th>\n      <th>z</th>\n    </tr>\n  </thead>\n  <tbody>\n    <tr>\n      <th>0</th>\n      <td>0.873138</td>\n      <td>0.873138</td>\n      <td>0.873138</td>\n    </tr>\n    <tr>\n      <th>1</th>\n      <td>0.855445</td>\n      <td>0.857769</td>\n      <td>0.856924</td>\n    </tr>\n    <tr>\n      <th>2</th>\n      <td>0.840770</td>\n      <td>0.844745</td>\n      <td>0.843168</td>\n    </tr>\n    <tr>\n      <th>3</th>\n      <td>0.828417</td>\n      <td>0.833715</td>\n      <td>0.831490</td>\n    </tr>\n    <tr>\n      <th>4</th>\n      <td>0.817951</td>\n      <td>0.824284</td>\n      <td>0.821499</td>\n    </tr>\n  </tbody>\n</table>\n</div>"
     },
     "metadata": {},
     "output_type": "execute_result",
     "execution_count": 25
    }
   ],
   "source": [
    "covariance_orig_df = pd.DataFrame(direc_covariances_grain_phase_orig)\n",
    "covariance_orig_df.to_csv(out_direc+\"orig_gph.csv\", index=False)\n",
    "\n",
    "covariances_orig_df_backload = pd.read_csv(out_direc+\"orig_gph.csv\")\n",
    "covariances_orig_df_backload.head()"
   ]
  },
  {
   "cell_type": "markdown",
   "metadata": {},
   "source": [
    "The covariance at the origin should be equal for all three directions and be equal to 1-porosity."
   ]
  },
  {
   "cell_type": "code",
   "execution_count": 26,
   "metadata": {
    "collapsed": true,
    "pycharm": {
     "is_executing": false
    }
   },
   "outputs": [],
   "source": [
    "del two_point_covariance_grain_phase_orig\n",
    "del two_point_direc"
   ]
  },
  {
   "cell_type": "markdown",
   "metadata": {},
   "source": [
    "## Covariance Computation - Synthetic Samples - Pore Phase\n",
    "\n",
    "We now perform above computation for the pore phase of the synthetic samples and store the results in csv files."
   ]
  },
  {
   "cell_type": "code",
   "execution_count": 31,
   "metadata": {
    "collapsed": false,
    "pycharm": {
     "is_executing": false
    }
   },
   "outputs": [
    {
     "data": {
      "text/plain": "HBox(children=(IntProgress(value=0, max=21), HTML(value='')))",
      "application/vnd.jupyter.widget-view+json": {
       "version_major": 2,
       "version_minor": 0,
       "model_id": "302b1df6160c4faca8082e2dc1f37f31"
      }
     },
     "metadata": {},
     "output_type": "display_data"
    },
    {
     "name": "stdout",
     "text": [
      "\n"
     ],
     "output_type": "stream"
    },
    {
     "traceback": [
      "\u001b[0;31m---------------------------------------------------------------------------\u001b[0m",
      "\u001b[0;31mFileNotFoundError\u001b[0m                         Traceback (most recent call last)",
      "\u001b[0;32m<ipython-input-31-25b3f73443bb>\u001b[0m in \u001b[0;36m<module>\u001b[0;34m\u001b[0m\n\u001b[1;32m      1\u001b[0m \u001b[0;32mfor\u001b[0m \u001b[0mseed\u001b[0m \u001b[0;32min\u001b[0m \u001b[0mtnrange\u001b[0m\u001b[0;34m(\u001b[0m\u001b[0mseed_min\u001b[0m\u001b[0;34m,\u001b[0m \u001b[0mseed_max\u001b[0m\u001b[0;34m)\u001b[0m\u001b[0;34m:\u001b[0m\u001b[0;34m\u001b[0m\u001b[0;34m\u001b[0m\u001b[0m\n\u001b[1;32m      2\u001b[0m     \u001b[0;31m# print(tifffile.imread(synthetic_input+str(seed)+synthetic_ending))\u001b[0m\u001b[0;34m\u001b[0m\u001b[0;34m\u001b[0m\u001b[0;34m\u001b[0m\u001b[0m\n\u001b[0;32m----> 3\u001b[0;31m     \u001b[0mim_in\u001b[0m \u001b[0;34m=\u001b[0m \u001b[0mtifffile\u001b[0m\u001b[0;34m.\u001b[0m\u001b[0mimread\u001b[0m\u001b[0;34m(\u001b[0m\u001b[0msynthetic_input\u001b[0m\u001b[0;34m+\u001b[0m\u001b[0mstr\u001b[0m\u001b[0;34m(\u001b[0m\u001b[0mseed\u001b[0m\u001b[0;34m)\u001b[0m\u001b[0;34m+\u001b[0m\u001b[0msynthetic_ending\u001b[0m\u001b[0;34m)\u001b[0m\u001b[0;34m\u001b[0m\u001b[0;34m\u001b[0m\u001b[0m\n\u001b[0m\u001b[1;32m      4\u001b[0m     \u001b[0mimage\u001b[0m \u001b[0;34m=\u001b[0m \u001b[0mim_in\u001b[0m\u001b[0;34m.\u001b[0m\u001b[0mastype\u001b[0m\u001b[0;34m(\u001b[0m\u001b[0mnp\u001b[0m\u001b[0;34m.\u001b[0m\u001b[0mint8\u001b[0m\u001b[0;34m)\u001b[0m\u001b[0;34m\u001b[0m\u001b[0;34m\u001b[0m\u001b[0m\n\u001b[1;32m      5\u001b[0m \u001b[0;34m\u001b[0m\u001b[0m\n",
      "\u001b[0;32m~/anaconda3/lib/python3.7/site-packages/tifffile/tifffile.py\u001b[0m in \u001b[0;36mimread\u001b[0;34m(files, **kwargs)\u001b[0m\n\u001b[1;32m    713\u001b[0m \u001b[0;34m\u001b[0m\u001b[0m\n\u001b[1;32m    714\u001b[0m     \u001b[0;32mif\u001b[0m \u001b[0misinstance\u001b[0m\u001b[0;34m(\u001b[0m\u001b[0mfiles\u001b[0m\u001b[0;34m,\u001b[0m \u001b[0mbasestring\u001b[0m\u001b[0;34m)\u001b[0m \u001b[0;32mor\u001b[0m \u001b[0mhasattr\u001b[0m\u001b[0;34m(\u001b[0m\u001b[0mfiles\u001b[0m\u001b[0;34m,\u001b[0m \u001b[0;34m'seek'\u001b[0m\u001b[0;34m)\u001b[0m\u001b[0;34m:\u001b[0m\u001b[0;34m\u001b[0m\u001b[0;34m\u001b[0m\u001b[0m\n\u001b[0;32m--> 715\u001b[0;31m         \u001b[0;32mwith\u001b[0m \u001b[0mTiffFile\u001b[0m\u001b[0;34m(\u001b[0m\u001b[0mfiles\u001b[0m\u001b[0;34m,\u001b[0m \u001b[0;34m**\u001b[0m\u001b[0mkwargs_file\u001b[0m\u001b[0;34m)\u001b[0m \u001b[0;32mas\u001b[0m \u001b[0mtif\u001b[0m\u001b[0;34m:\u001b[0m\u001b[0;34m\u001b[0m\u001b[0;34m\u001b[0m\u001b[0m\n\u001b[0m\u001b[1;32m    716\u001b[0m             \u001b[0;32mreturn\u001b[0m \u001b[0mtif\u001b[0m\u001b[0;34m.\u001b[0m\u001b[0masarray\u001b[0m\u001b[0;34m(\u001b[0m\u001b[0;34m**\u001b[0m\u001b[0mkwargs\u001b[0m\u001b[0;34m)\u001b[0m\u001b[0;34m\u001b[0m\u001b[0;34m\u001b[0m\u001b[0m\n\u001b[1;32m    717\u001b[0m     \u001b[0;32melse\u001b[0m\u001b[0;34m:\u001b[0m\u001b[0;34m\u001b[0m\u001b[0;34m\u001b[0m\u001b[0m\n",
      "\u001b[0;32m~/anaconda3/lib/python3.7/site-packages/tifffile/tifffile.py\u001b[0m in \u001b[0;36m__init__\u001b[0;34m(self, arg, name, offset, size, multifile, _useframes, **kwargs)\u001b[0m\n\u001b[1;32m   2226\u001b[0m                     \u001b[0;32mraise\u001b[0m \u001b[0mTypeError\u001b[0m\u001b[0;34m(\u001b[0m\u001b[0;34m'unexpected keyword argument: %s'\u001b[0m \u001b[0;34m%\u001b[0m \u001b[0mkey\u001b[0m\u001b[0;34m)\u001b[0m\u001b[0;34m\u001b[0m\u001b[0;34m\u001b[0m\u001b[0m\n\u001b[1;32m   2227\u001b[0m \u001b[0;34m\u001b[0m\u001b[0m\n\u001b[0;32m-> 2228\u001b[0;31m         \u001b[0mfh\u001b[0m \u001b[0;34m=\u001b[0m \u001b[0mFileHandle\u001b[0m\u001b[0;34m(\u001b[0m\u001b[0marg\u001b[0m\u001b[0;34m,\u001b[0m \u001b[0mmode\u001b[0m\u001b[0;34m=\u001b[0m\u001b[0;34m'rb'\u001b[0m\u001b[0;34m,\u001b[0m \u001b[0mname\u001b[0m\u001b[0;34m=\u001b[0m\u001b[0mname\u001b[0m\u001b[0;34m,\u001b[0m \u001b[0moffset\u001b[0m\u001b[0;34m=\u001b[0m\u001b[0moffset\u001b[0m\u001b[0;34m,\u001b[0m \u001b[0msize\u001b[0m\u001b[0;34m=\u001b[0m\u001b[0msize\u001b[0m\u001b[0;34m)\u001b[0m\u001b[0;34m\u001b[0m\u001b[0;34m\u001b[0m\u001b[0m\n\u001b[0m\u001b[1;32m   2229\u001b[0m         \u001b[0mself\u001b[0m\u001b[0;34m.\u001b[0m\u001b[0m_fh\u001b[0m \u001b[0;34m=\u001b[0m \u001b[0mfh\u001b[0m\u001b[0;34m\u001b[0m\u001b[0;34m\u001b[0m\u001b[0m\n\u001b[1;32m   2230\u001b[0m         \u001b[0mself\u001b[0m\u001b[0;34m.\u001b[0m\u001b[0m_multifile\u001b[0m \u001b[0;34m=\u001b[0m \u001b[0mbool\u001b[0m\u001b[0;34m(\u001b[0m\u001b[0mmultifile\u001b[0m\u001b[0;34m)\u001b[0m\u001b[0;34m\u001b[0m\u001b[0;34m\u001b[0m\u001b[0m\n",
      "\u001b[0;32m~/anaconda3/lib/python3.7/site-packages/tifffile/tifffile.py\u001b[0m in \u001b[0;36m__init__\u001b[0;34m(self, file, mode, name, offset, size)\u001b[0m\n\u001b[1;32m   6029\u001b[0m         \u001b[0mself\u001b[0m\u001b[0;34m.\u001b[0m\u001b[0mis_file\u001b[0m \u001b[0;34m=\u001b[0m \u001b[0;32mFalse\u001b[0m\u001b[0;34m\u001b[0m\u001b[0;34m\u001b[0m\u001b[0m\n\u001b[1;32m   6030\u001b[0m         \u001b[0mself\u001b[0m\u001b[0;34m.\u001b[0m\u001b[0m_lock\u001b[0m \u001b[0;34m=\u001b[0m \u001b[0mNullContext\u001b[0m\u001b[0;34m(\u001b[0m\u001b[0;34m)\u001b[0m\u001b[0;34m\u001b[0m\u001b[0;34m\u001b[0m\u001b[0m\n\u001b[0;32m-> 6031\u001b[0;31m         \u001b[0mself\u001b[0m\u001b[0;34m.\u001b[0m\u001b[0mopen\u001b[0m\u001b[0;34m(\u001b[0m\u001b[0;34m)\u001b[0m\u001b[0;34m\u001b[0m\u001b[0;34m\u001b[0m\u001b[0m\n\u001b[0m\u001b[1;32m   6032\u001b[0m \u001b[0;34m\u001b[0m\u001b[0m\n\u001b[1;32m   6033\u001b[0m     \u001b[0;32mdef\u001b[0m \u001b[0mopen\u001b[0m\u001b[0;34m(\u001b[0m\u001b[0mself\u001b[0m\u001b[0;34m)\u001b[0m\u001b[0;34m:\u001b[0m\u001b[0;34m\u001b[0m\u001b[0;34m\u001b[0m\u001b[0m\n",
      "\u001b[0;32m~/anaconda3/lib/python3.7/site-packages/tifffile/tifffile.py\u001b[0m in \u001b[0;36mopen\u001b[0;34m(self)\u001b[0m\n\u001b[1;32m   6042\u001b[0m             \u001b[0mself\u001b[0m\u001b[0;34m.\u001b[0m\u001b[0m_file\u001b[0m \u001b[0;34m=\u001b[0m \u001b[0mos\u001b[0m\u001b[0;34m.\u001b[0m\u001b[0mpath\u001b[0m\u001b[0;34m.\u001b[0m\u001b[0mrealpath\u001b[0m\u001b[0;34m(\u001b[0m\u001b[0mself\u001b[0m\u001b[0;34m.\u001b[0m\u001b[0m_file\u001b[0m\u001b[0;34m)\u001b[0m\u001b[0;34m\u001b[0m\u001b[0;34m\u001b[0m\u001b[0m\n\u001b[1;32m   6043\u001b[0m             \u001b[0mself\u001b[0m\u001b[0;34m.\u001b[0m\u001b[0m_dir\u001b[0m\u001b[0;34m,\u001b[0m \u001b[0mself\u001b[0m\u001b[0;34m.\u001b[0m\u001b[0m_name\u001b[0m \u001b[0;34m=\u001b[0m \u001b[0mos\u001b[0m\u001b[0;34m.\u001b[0m\u001b[0mpath\u001b[0m\u001b[0;34m.\u001b[0m\u001b[0msplit\u001b[0m\u001b[0;34m(\u001b[0m\u001b[0mself\u001b[0m\u001b[0;34m.\u001b[0m\u001b[0m_file\u001b[0m\u001b[0;34m)\u001b[0m\u001b[0;34m\u001b[0m\u001b[0;34m\u001b[0m\u001b[0m\n\u001b[0;32m-> 6044\u001b[0;31m             \u001b[0mself\u001b[0m\u001b[0;34m.\u001b[0m\u001b[0m_fh\u001b[0m \u001b[0;34m=\u001b[0m \u001b[0mopen\u001b[0m\u001b[0;34m(\u001b[0m\u001b[0mself\u001b[0m\u001b[0;34m.\u001b[0m\u001b[0m_file\u001b[0m\u001b[0;34m,\u001b[0m \u001b[0mself\u001b[0m\u001b[0;34m.\u001b[0m\u001b[0m_mode\u001b[0m\u001b[0;34m)\u001b[0m\u001b[0;34m\u001b[0m\u001b[0;34m\u001b[0m\u001b[0m\n\u001b[0m\u001b[1;32m   6045\u001b[0m             \u001b[0mself\u001b[0m\u001b[0;34m.\u001b[0m\u001b[0m_close\u001b[0m \u001b[0;34m=\u001b[0m \u001b[0;32mTrue\u001b[0m\u001b[0;34m\u001b[0m\u001b[0;34m\u001b[0m\u001b[0m\n\u001b[1;32m   6046\u001b[0m             \u001b[0;32mif\u001b[0m \u001b[0mself\u001b[0m\u001b[0;34m.\u001b[0m\u001b[0m_offset\u001b[0m \u001b[0;32mis\u001b[0m \u001b[0;32mNone\u001b[0m\u001b[0;34m:\u001b[0m\u001b[0;34m\u001b[0m\u001b[0;34m\u001b[0m\u001b[0m\n",
      "\u001b[0;31mFileNotFoundError\u001b[0m: [Errno 2] No such file or directory: '/Users/yurong/Documents/code/python/PorousMediaGan/data/ketton/sampled/postprocessed/tiff/200/ketton_desp_64_43.tiff'"
     ],
     "ename": "FileNotFoundError",
     "evalue": "[Errno 2] No such file or directory: '/Users/yurong/Documents/code/python/PorousMediaGan/data/ketton/sampled/postprocessed/tiff/200/ketton_desp_64_43.tiff'",
     "output_type": "error"
    }
   ],
   "source": [
    "for seed in tnrange(seed_min, seed_max):\n",
    "    im_in = tifffile.imread(synthetic_input+str(seed)+synthetic_ending)\n",
    "    image = im_in.astype(np.int8)\n",
    "    \n",
    "    #determine phase values\n",
    "    pore_phase = image.min()\n",
    "    grain_phase = image.max()\n",
    "    \n",
    "    for phase, phase_label in zip([pore_phase, grain_phase], [\"pph\", \"gph\"]):\n",
    "        #phase computation\n",
    "        two_point_covariance = {}\n",
    "        for i, direc in enumerate([\"x\", \"y\", \"z\"]):\n",
    "            two_point_direc = two_point_correlation(image, i, var=phase)\n",
    "            two_point_covariance[direc] = two_point_direc\n",
    "\n",
    "        #phase averaging\n",
    "        direc_covariances = {}\n",
    "        for direc in [\"x\", \"y\", \"z\"]:\n",
    "            direc_covariances[direc] = np.mean(np.mean(two_point_covariance[direc], axis=0), axis=0)\n",
    "\n",
    "        #covariance storage\n",
    "        covariance_df = pd.DataFrame(direc_covariances)\n",
    "        covariance_df.to_csv(out_direc +\"S_\"+str(seed)+\"_\"+phase_label+\".csv\", index=False)"
   ]
  },
  {
   "cell_type": "markdown",
   "metadata": {},
   "source": [
    "We probably may shutdown the notebook after this, but to be sure we delete these, because they may hog all of the RAM."
   ]
  },
  {
   "cell_type": "code",
   "execution_count": null,
   "metadata": {
    "collapsed": true,
    "pycharm": {
     "is_executing": false
    }
   },
   "outputs": [],
   "source": [
    "del im_in\n",
    "del image\n",
    "del two_point_covariance\n",
    "del direc_covariances\n",
    "del covariance_df"
   ]
  }
 ],
 "metadata": {
  "anaconda-cloud": {},
  "kernelspec": {
   "name": "python3",
   "language": "python",
   "display_name": "Python 3"
  },
  "language_info": {
   "codemirror_mode": {
    "name": "ipython",
    "version": 2
   },
   "file_extension": ".py",
   "mimetype": "text/x-python",
   "name": "python",
   "nbconvert_exporter": "python",
   "pygments_lexer": "ipython2",
   "version": "2.7.11"
  },
  "pycharm": {
   "stem_cell": {
    "cell_type": "raw",
    "source": [],
    "metadata": {
     "collapsed": false
    }
   }
  }
 },
 "nbformat": 4,
 "nbformat_minor": 1
}