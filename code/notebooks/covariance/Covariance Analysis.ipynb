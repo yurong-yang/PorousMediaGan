{
 "cells": [
  {
   "cell_type": "markdown",
   "metadata": {},
   "source": [
    "## Covariance Analysis\n",
    "\n",
    "Based on the computation of the two-point covariance, we will compute three properties:\n",
    " - Slope of the Covariance at the origin $\\frac{dS^{(1)}_2(r)}{dr}|_{r=0}$\n",
    " - The specific surface area $S_V$\n",
    " - Chord length for each phase $l^{(i)}_C$"
   ]
  },
  {
   "cell_type": "code",
   "execution_count": 42,
   "metadata": {
    "collapsed": false,
    "pycharm": {
     "is_executing": false
    }
   },
   "outputs": [],
   "source": [
    "import numpy as np\n",
    "import pandas as pd\n",
    "from scipy.optimize import curve_fit\n",
    "import json"
   ]
  },
  {
   "cell_type": "code",
   "execution_count": 43,
   "metadata": {
    "collapsed": true,
    "pycharm": {
     "is_executing": false
    }
   },
   "outputs": [],
   "source": [
    "#strings to output and input locations\n",
    "beadpack_dic = {\n",
    "    \"out_direc\": \"../../../analysis/covariance/beadpack/\",\n",
    "    \"seed_min\": 43,\n",
    "    \"seed_max\": 64\n",
    "}\n",
    "\n",
    "berea_dic = {\n",
    "    \"out_direc\": \"../../../analysis/covariance/berea/\",\n",
    "    \"seed_min\": 43,\n",
    "    \"seed_max\": 64\n",
    "}\n",
    "\n",
    "ketton_dic = {\n",
    "    \"out_direc\": \"../../../analysis/covariance/ketton/\",\n",
    "    \"seed_min\": 43,\n",
    "    \"seed_max\": 64\n",
    "}\n",
    "data_dic = ketton_dic\n",
    "out_direc = data_dic[\"out_direc\"]"
   ]
  },
  {
   "cell_type": "markdown",
   "metadata": {},
   "source": [
    "## Data Loading \n",
    "\n",
    "We load data using pandas from the given directory of the covariances."
   ]
  },
  {
   "cell_type": "code",
   "execution_count": 44,
   "metadata": {
    "collapsed": false,
    "pycharm": {
     "is_executing": false
    }
   },
   "outputs": [],
   "source": [
    "orig_cov_pph = pd.read_csv(out_direc+\"orig_pph.csv\")\n",
    "orig_cov_gph = pd.read_csv(out_direc+\"orig_gph.csv\")"
   ]
  },
  {
   "cell_type": "markdown",
   "metadata": {},
   "source": [
    "We now compute the slope at the origin of the radial averaged covariance to evaluate the specific surface area."
   ]
  },
  {
   "cell_type": "markdown",
   "metadata": {},
   "source": [
    "$$S_V = -4 \\frac{dS^{(1)}_2(r)}{dr}|_{r=0}$$"
   ]
  },
  {
   "cell_type": "markdown",
   "metadata": {},
   "source": [
    "We do this by fittin a straight line at the origin and fixing the intercept at $S^{(1)}_2(0)=\\phi$\n",
    "Therefore the equation we are fitting is:\n",
    "\n",
    "$$y = ax + \\phi$$"
   ]
  },
  {
   "cell_type": "code",
   "execution_count": 45,
   "metadata": {
    "collapsed": false,
    "pycharm": {
     "is_executing": false
    }
   },
   "outputs": [],
   "source": [
    "def radial_average(cov):\n",
    "    avg = np.mean(cov, axis=0)\n",
    "    return avg\n",
    "\n",
    "\n",
    "def straight_line_at_origin(porosity):\n",
    "    def func(x, a):\n",
    "        return a * x + porosity\n",
    "    return func"
   ]
  },
  {
   "cell_type": "code",
   "execution_count": 51,
   "metadata": {
    "collapsed": true,
    "pycharm": {
     "is_executing": false
    }
   },
   "outputs": [],
   "source": [
    "original_average_pph = radial_average(orig_cov_pph.values.T)\n",
    "original_average_gph = radial_average(orig_cov_gph.values.T)\n"
   ]
  },
  {
   "cell_type": "code",
   "execution_count": 71,
   "metadata": {
    "collapsed": false,
    "pycharm": {
     "is_executing": false
    }
   },
   "outputs": [
    {
     "name": "stdout",
     "text": [
      "[-0.01369403] [-0.01367592]\n[0.05477614]\n"
     ],
     "output_type": "stream"
    }
   ],
   "source": [
    "N = 5\n",
    "slope_pph, slope_pph_cov = curve_fit(straight_line_at_origin(original_average_pph[0]), np.array(list(range(0,N))), original_average_pph[0:N])\n",
    "slope_gph, slope_gph_cov = curve_fit(straight_line_at_origin(original_average_gph[0]), np.array(list(range(0,N))), original_average_gph[0:N])\n",
    "print (slope_pph, slope_gph)\n",
    "\n",
    "specific_surface_orig = -4*slope_pph\n",
    "print (specific_surface_orig)"
   ]
  },
  {
   "cell_type": "markdown",
   "metadata": {},
   "source": [
    "Finally we estimate the chord length of both phases by computing:\n",
    "\n",
    "$$l^{(i)}_C=-\\frac{\\phi^{(i)}}{\\frac{dS^{(i)}_2(r)}{dr}|_{r=0}}$$"
   ]
  },
  {
   "cell_type": "code",
   "execution_count": 72,
   "metadata": {
    "collapsed": false,
    "pycharm": {
     "is_executing": false
    }
   },
   "outputs": [
    {
     "name": "stdout",
     "text": [
      "[9.26403769] [63.84489292]\n"
     ],
     "output_type": "stream"
    }
   ],
   "source": [
    "chord_length_pph = -original_average_pph[0]/slope_pph\n",
    "chord_length_gph = -original_average_gph[0]/slope_gph\n",
    "print (chord_length_pph, chord_length_gph)"
   ]
  },
  {
   "cell_type": "code",
   "execution_count": 73,
   "metadata": {
    "collapsed": true,
    "pycharm": {
     "is_executing": false
    }
   },
   "outputs": [],
   "source": [
    "orig_data = {\n",
    "    \"slope_gph\": float(slope_gph), \"slope_pph\": float(slope_pph), \n",
    "    \"specific_surface\": float(specific_surface_orig), \n",
    "    \"chord_length_pph\": float(chord_length_pph), \"chord_length_gph\":float(chord_length_gph)}"
   ]
  },
  {
   "cell_type": "code",
   "execution_count": 74,
   "metadata": {
    "collapsed": false,
    "pycharm": {
     "is_executing": false
    }
   },
   "outputs": [],
   "source": [
    "covariance_values = {}\n",
    "covariance_values[\"orig\"] = orig_data"
   ]
  },
  {
   "cell_type": "markdown",
   "metadata": {},
   "source": [
    "## Synthetic Samples Computation\n",
    "\n",
    "We now perform the same computation for the synthetic samples"
   ]
  },
  {
   "cell_type": "code",
   "execution_count": 77,
   "metadata": {
    "collapsed": false,
    "pycharm": {
     "is_executing": false
    }
   },
   "outputs": [],
   "source": [
    "for i in np.array(list(range(data_dic[\"seed_min\"], data_dic[\"seed_max\"]))):\n",
    "    cov_pph = pd.read_csv(out_direc+\"S_\"+str(i)+\"_pph.csv\")\n",
    "    cov_gph = pd.read_csv(out_direc+\"S_\"+str(i)+\"_gph.csv\")\n",
    "    \n",
    "    average_pph = radial_average(cov_pph.values.T)\n",
    "    average_gph = radial_average(cov_gph.values.T)\n",
    "    \n",
    "    slope_pph, slope_pph_cov = curve_fit(straight_line_at_origin(average_pph[0]), np.array(list(range(0,N))), average_pph[0:N])\n",
    "    slope_gph, slope_gph_cov = curve_fit(straight_line_at_origin(average_gph[0]), np.array(list(range(0,N))), average_gph[0:N])\n",
    "\n",
    "    \n",
    "    specific_surface = -4*slope_pph\n",
    "\n",
    "    \n",
    "    chord_length_pph = -average_pph[0]/slope_pph\n",
    "    chord_length_gph = -average_gph[0]/slope_gph\n",
    "\n",
    "    data = {\n",
    "    \"slope_gph\": float(slope_gph), \"slope_pph\": float(slope_pph), \n",
    "    \"specific_surface\": float(specific_surface), \n",
    "    \"chord_length_pph\": float(chord_length_pph), \"chord_length_gph\":float(chord_length_gph)}\n",
    "    covariance_values[\"S_\"+str(i)] = data"
   ]
  },
  {
   "cell_type": "markdown",
   "metadata": {},
   "source": [
    "## Data Output to JSON\n",
    "And finally we dump everything to a json file that let's us use this data in future graphs and analysis."
   ]
  },
  {
   "cell_type": "code",
   "execution_count": 78,
   "metadata": {
    "collapsed": false,
    "pycharm": {
     "is_executing": false
    }
   },
   "outputs": [],
   "source": [
    "with open(out_direc+\"covariance_data.json\", \"w\") as f:\n",
    "    json.dump(covariance_values, f)"
   ]
  },
  {
   "cell_type": "code",
   "execution_count": 78,
   "metadata": {
    "collapsed": true,
    "pycharm": {
     "is_executing": false
    }
   },
   "outputs": [],
   "source": []
  }
 ],
 "metadata": {
  "anaconda-cloud": {},
  "kernelspec": {
   "name": "python3",
   "language": "python",
   "display_name": "Python 3"
  },
  "language_info": {
   "codemirror_mode": {
    "name": "ipython",
    "version": 2
   },
   "file_extension": ".py",
   "mimetype": "text/x-python",
   "name": "python",
   "nbconvert_exporter": "python",
   "pygments_lexer": "ipython2",
   "version": "2.7.11"
  },
  "pycharm": {
   "stem_cell": {
    "cell_type": "raw",
    "source": [],
    "metadata": {
     "collapsed": false
    }
   }
  }
 },
 "nbformat": 4,
 "nbformat_minor": 1
}